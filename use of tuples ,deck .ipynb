{
 "cells": [
  {
   "cell_type": "code",
   "execution_count": 1,
   "metadata": {},
   "outputs": [],
   "source": [
    "from collections import namedtuple\n",
    "\n",
    "Card = namedtuple('Card', ['value', 'suit'])\n",
    "suits = ['hearts', 'diamonds', 'spades', 'clubs']\n",
    "cards = [Card(value, suit) for value in range(1, 14) for suit in suits]"
   ]
  },
  {
   "cell_type": "code",
   "execution_count": 5,
   "metadata": {},
   "outputs": [
    {
     "name": "stdout",
     "output_type": "stream",
     "text": [
      "Card(value=1, suit='hearts')\n",
      "1 hearts\n"
     ]
    }
   ],
   "source": [
    "print(cards[0])\n",
    "print(cards[0].value, cards[0].suit)\n"
   ]
  },
  {
   "cell_type": "code",
   "execution_count": 6,
   "metadata": {},
   "outputs": [
    {
     "name": "stdout",
     "output_type": "stream",
     "text": [
      "The queen of clubs\n",
      "The jack of hearts\n",
      "The ace of clubs\n",
      "The queen of hearts\n",
      "The 9 of clubs\n",
      "The 7 of clubs\n",
      "The 2 of clubs\n",
      "The 6 of clubs\n",
      "The 8 of diamonds\n",
      "The queen of spades\n",
      "The jack of diamonds\n",
      "The 2 of hearts\n",
      "The king of diamonds\n",
      "The 3 of clubs\n",
      "The king of spades\n",
      "The 4 of hearts\n",
      "The 4 of diamonds\n",
      "The 8 of hearts\n",
      "The 2 of diamonds\n",
      "The 10 of hearts\n",
      "The 7 of hearts\n",
      "The 5 of clubs\n",
      "The 9 of spades\n",
      "The 6 of diamonds\n",
      "The 4 of clubs\n",
      "The 7 of diamonds\n",
      "The 9 of hearts\n",
      "The 8 of clubs\n",
      "The king of clubs\n",
      "The ace of spades\n",
      "The 10 of spades\n",
      "The 10 of diamonds\n",
      "The 6 of spades\n",
      "The ace of diamonds\n",
      "The ace of hearts\n",
      "The 10 of clubs\n",
      "The 5 of hearts\n",
      "The 5 of spades\n",
      "The jack of clubs\n",
      "The 9 of diamonds\n",
      "The 5 of diamonds\n",
      "The king of hearts\n",
      "The 8 of spades\n",
      "The 7 of spades\n",
      "The queen of diamonds\n",
      "The jack of spades\n",
      "The 3 of spades\n",
      "The 3 of hearts\n",
      "The 3 of diamonds\n",
      "The 6 of hearts\n",
      "The 4 of spades\n",
      "The 2 of spades\n"
     ]
    }
   ],
   "source": [
    "import itertools\n",
    "import random\n",
    "\n",
    "vals = ['2', '3', '4', '5', '6', '7', '8', '9', '10', 'jack', 'queen', 'king', 'ace']\n",
    "suits = ['spades', 'clubs', 'hearts', 'diamonds']\n",
    "\n",
    "deck = list(itertools.product(vals, suits))\n",
    "\n",
    "random.shuffle(deck)\n",
    "\n",
    "for val, suit in deck:\n",
    "    print('The %s of %s' % (val, suit))"
   ]
  },
  {
   "cell_type": "code",
   "execution_count": 7,
   "metadata": {},
   "outputs": [],
   "source": [
    "class Card:\n",
    "    def __init__(self, value, color):\n",
    "        self.value = value\n",
    "        self.color = color"
   ]
  },
  {
   "cell_type": "code",
   "execution_count": 8,
   "metadata": {},
   "outputs": [],
   "source": [
    "colors = ['heart', 'diamonds', 'spades', 'clubs']\n",
    "\n",
    "deck = [Card(value, color) for value in range(1, 14) for color in colors]"
   ]
  },
  {
   "cell_type": "code",
   "execution_count": null,
   "metadata": {},
   "outputs": [],
   "source": []
  },
  {
   "cell_type": "code",
   "execution_count": null,
   "metadata": {},
   "outputs": [],
   "source": []
  },
  {
   "cell_type": "code",
   "execution_count": 9,
   "metadata": {},
   "outputs": [],
   "source": [
    "import random\n",
    "from random import shuffle\n",
    "\n",
    "def RANKS(): return [ \"Ace\", \"2\", \"3\", \"4\", \"5\", \"6\", \"7\",\"8\", \"9\", \"10\", \"Jack\", \"Queen\", \"King\" ]\n",
    "def SUITS(): return [ \"Clubs\", \"Diamonds\", \"Hearts\", \"Spades\" ]"
   ]
  },
  {
   "cell_type": "code",
   "execution_count": 10,
   "metadata": {},
   "outputs": [],
   "source": [
    "class Card:\n",
    "\n",
    "    def __init__( self, rank, suit ):\n",
    "        self.rank = rank\n",
    "        self.suit = suit\n",
    "\n",
    "    def __str__( self ):\n",
    "        return self.rank + \" of \" + self.suit"
   ]
  },
  {
   "cell_type": "code",
   "execution_count": 11,
   "metadata": {},
   "outputs": [],
   "source": [
    "class Deck:\n",
    "\n",
    "    def __init__( self ):\n",
    "        self.contents = []\n",
    "        self.contents = [ Card( rank, suit ) for rank in RANKS() for suit in SUITS() ]\n",
    "        random.shuffle( self.contents )"
   ]
  }
 ],
 "metadata": {
  "kernelspec": {
   "display_name": "Python 3",
   "language": "python",
   "name": "python3"
  },
  "language_info": {
   "codemirror_mode": {
    "name": "ipython",
    "version": 3
   },
   "file_extension": ".py",
   "mimetype": "text/x-python",
   "name": "python",
   "nbconvert_exporter": "python",
   "pygments_lexer": "ipython3",
   "version": "3.8.5"
  }
 },
 "nbformat": 4,
 "nbformat_minor": 4
}
