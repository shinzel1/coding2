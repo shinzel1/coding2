{
 "cells": [
  {
   "cell_type": "code",
   "execution_count": 2,
   "metadata": {},
   "outputs": [
    {
     "name": "stdout",
     "output_type": "stream",
     "text": [
      "bigger than 2\n",
      "Still bigger\n",
      "Done with 2\n",
      "0\n",
      "done with i 0\n",
      "1\n",
      "done with i 1\n",
      "2\n",
      "done with i 2\n",
      "3\n",
      "Bigger than 2\n",
      "done with i 3\n",
      "4\n",
      "Bigger than 2\n",
      "done with i 4\n",
      "All done\n"
     ]
    }
   ],
   "source": [
    "x=5\n",
    "if x>2:\n",
    "    print('bigger than 2')\n",
    "    print('Still bigger')\n",
    "print('Done with 2')\n",
    "\n",
    "for i in range(5):\n",
    "    print(i)\n",
    "    if i>2:\n",
    "        print('Bigger than 2')\n",
    "    print('done with i',i)\n",
    "print('All done')\n",
    "        "
   ]
  },
  {
   "cell_type": "code",
   "execution_count": null,
   "metadata": {},
   "outputs": [],
   "source": []
  }
 ],
 "metadata": {
  "kernelspec": {
   "display_name": "Python 3",
   "language": "python",
   "name": "python3"
  },
  "language_info": {
   "codemirror_mode": {
    "name": "ipython",
    "version": 3
   },
   "file_extension": ".py",
   "mimetype": "text/x-python",
   "name": "python",
   "nbconvert_exporter": "python",
   "pygments_lexer": "ipython3",
   "version": "3.8.5"
  }
 },
 "nbformat": 4,
 "nbformat_minor": 4
}
