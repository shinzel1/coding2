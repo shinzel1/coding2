{
 "cells": [
  {
   "cell_type": "code",
   "execution_count": null,
   "metadata": {},
   "outputs": [],
   "source": [
    "# days in month function\n",
    "def days_in_month(year,month):\n",
    "     if (datetime.MINYEAR <= year <= datetime.MAXYEAR) and (1 <= month <=11):\n",
    "        date1 = datetime.date(year,month,1)\n",
    "        date2 = datetime.date(year,month+1,1)\n",
    "        return (date2 - date1).days\n",
    "    elif (datetime.MINYEAR <= year <= datetime.MAXYEAR) and (month == 12):\n",
    "        date1 = datetime.date(year,month,1)\n",
    "        date2 = datetime.date(year+1,1,1)\n",
    "        return (date2 - date1).days\n",
    "    else:\n",
    "        return False\n",
    "   \n"
   ]
  },
  {
   "cell_type": "code",
   "execution_count": null,
   "metadata": {},
   "outputs": [],
   "source": [
    "def is_valid_date(year, month, day):\n",
    "    \"\"\"\n",
    "    This function takes three integers: a year, a month, and a day. and return\n",
    "    True if the date is valid and False otherwise.\n",
    "    \"\"\"\n",
    "\n",
    "    #computing date is valid or not\n",
    "    days = days_in_month(year, month)\n",
    "    if ((datetime.MINYEAR <= year <= datetime.MAXYEAR) and (1<= month <= 12) and (0 < day <= days)):\n",
    "        return True\n",
    "    else:\n",
    "        return False"
   ]
  },
  {
   "cell_type": "code",
   "execution_count": null,
   "metadata": {},
   "outputs": [],
   "source": [
    "def days_between(year1, month1, day1, year2, month2, day2):\n",
    "    \"\"\"\n",
    "    Takes six integers (year1, month1, day1, year2, month2, day2) and returns\n",
    "    the number of days from an earlier to a later date and if either date is\n",
    "    invalid the function return 0.\n",
    "    \"\"\"\n",
    "\n",
    "    #computing the number between days\n",
    "    #conditions and computation of days between two dates\n",
    "    if (is_valid_date(year1, month1, day1)) and (is_valid_date(year2, month2, day2)):\n",
    "\n",
    "        date1 = datetime.date(year1, month1, day1)\n",
    "        date2 = datetime.date(year2, month2, day2)\n",
    "\n",
    "        if (date2 > date1):\n",
    "            number_of_days = date2 - date1\n",
    "            return number_of_days.days\n",
    "        else:\n",
    "            return 0\n",
    "    else:\n",
    "        return 0"
   ]
  },
  {
   "cell_type": "code",
   "execution_count": null,
   "metadata": {},
   "outputs": [],
   "source": [
    "def age_in_days(year, month, day):\n",
    "    \"\"\"\n",
    "    Takes three integers as input(year,month,day) of a persons\n",
    "    birthday and return that person's age in days as of today.\n",
    "    \"\"\"\n",
    "    \n",
    "    #conditions and calculations of person's age in days\n",
    "    \n",
    "    if (is_valid_date(year, month, day)):\n",
    "        today = datetime.date.today()\n",
    "        person_bday = datetime.date(year, month, day)\n",
    "        if (person_bday < today):\n",
    "            person_age_in_days = days_between(year, month, day, today.year, today.month, today.day)\n",
    "            return person_age_in_days\n",
    "        else:\n",
    "            return 0\n",
    "    else:\n",
    "        return 0"
   ]
  },
  {
   "cell_type": "code",
   "execution_count": null,
   "metadata": {},
   "outputs": [],
   "source": []
  }
 ],
 "metadata": {
  "kernelspec": {
   "display_name": "Python 3",
   "language": "python",
   "name": "python3"
  },
  "language_info": {
   "codemirror_mode": {
    "name": "ipython",
    "version": 3
   },
   "file_extension": ".py",
   "mimetype": "text/x-python",
   "name": "python",
   "nbconvert_exporter": "python",
   "pygments_lexer": "ipython3",
   "version": "3.8.5"
  }
 },
 "nbformat": 4,
 "nbformat_minor": 4
}
