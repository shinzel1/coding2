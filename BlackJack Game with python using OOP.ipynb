{
 "cells": [
  {
   "cell_type": "markdown",
   "metadata": {},
   "source": [
    "take cards and its sum close to possible value of 21\n",
    "pick cards randm 1 to 52\n",
    "deck will decide and calls \n",
    "\n",
    "if sum>21 busted , will forfeit your bet immediately\n",
    "card values of King , Queen ,Jack(all three have points value)also called face cards\n",
    "number cards through 2 to 10 retain their face value\n",
    "Aces can count either 1 point or 11 points\n",
    "depending on which value advantage the player\n",
    "\n",
    "\n",
    "will get two cards randomly and \n",
    "player has to decide\n",
    "either STAND or HIT\n",
    "\n",
    "HIT : request another card from deck\n",
    "if your third card gives you a total of more than 21 , you are immediately bust and out of the round\n",
    "until then coninue hitting until u satisfy\n",
    "\n",
    "\n",
    "STAND:satisfied with your current hand\n",
    "\n",
    "\n",
    "doubling down : now he will double the amount and pick one card , after that he cannot ask for any more hots after the third card\n",
    "\n",
    "\n",
    "\n",
    "SURRENDER : when the dealers upcard iseither an ace or a ten value\n",
    "A player who has surrendered half his bet to the house . the round ends and a new round can commence.\n",
    "SPLIT : if first two cards hold same value , you can split them into two aand seperate playing hands\n",
    "\n",
    "\n",
    "Insurance:\n",
    "payouts:\n",
    "\n",
    "types \n",
    "stand "
   ]
  },
  {
   "cell_type": "code",
   "execution_count": 2,
   "metadata": {},
   "outputs": [
    {
     "ename": "SyntaxError",
     "evalue": "invalid syntax (<ipython-input-2-833019f2c80e>, line 7)",
     "output_type": "error",
     "traceback": [
      "\u001b[1;36m  File \u001b[1;32m\"<ipython-input-2-833019f2c80e>\"\u001b[1;36m, line \u001b[1;32m7\u001b[0m\n\u001b[1;33m    values = {'Two':2,'Three':3,'Four':4,'Five':5,'Six':6,'Seven':7,'Eight':8,'Nine':9,'Ten':10,'Jack'=10,'Queen'=10,'King':10,'Ace':11}\u001b[0m\n\u001b[1;37m                                                                                                      ^\u001b[0m\n\u001b[1;31mSyntaxError\u001b[0m\u001b[1;31m:\u001b[0m invalid syntax\n"
     ]
    }
   ],
   "source": [
    "import random\n",
    "\n",
    "suit = ('Hearts ','Diamonds','Spades','Clubs')\n",
    "\n",
    "ranks = ('Two','Three','Four','Five','Six','Seven','Eight','Nine','Ten','Jack','Queen','King','Ace')\n",
    "\n",
    "values = {'Two':2,'Three':3,'Four':4,'Five':5,'Six':6,'Seven':7,'Eight':8,'Nine':9,'Ten':10,'Jack'=10,'Queen'=10,'King':10,'Ace':11}\n",
    "\n",
    "playing = True\n"
   ]
  },
  {
   "cell_type": "code",
   "execution_count": 1,
   "metadata": {},
   "outputs": [
    {
     "ename": "SyntaxError",
     "evalue": "f-string: empty expression not allowed (<ipython-input-1-d2712411503a>, line 6)",
     "output_type": "error",
     "traceback": [
      "\u001b[1;36m  File \u001b[1;32m\"<ipython-input-1-d2712411503a>\"\u001b[1;36m, line \u001b[1;32m6\u001b[0m\n\u001b[1;33m    print (f\"{} of {}\",ranks() , suits())\u001b[0m\n\u001b[1;37m           ^\u001b[0m\n\u001b[1;31mSyntaxError\u001b[0m\u001b[1;31m:\u001b[0m f-string: empty expression not allowed\n"
     ]
    }
   ],
   "source": [
    "class Card:\n",
    "    def __init__(self):\n",
    "        pass\n",
    "    def __str__(self):\n",
    "        \n",
    "        print (f\"{} of {}\",ranks() , suits())\n",
    "    "
   ]
  },
  {
   "cell_type": "code",
   "execution_count": null,
   "metadata": {},
   "outputs": [],
   "source": []
  }
 ],
 "metadata": {
  "kernelspec": {
   "display_name": "Python 3",
   "language": "python",
   "name": "python3"
  },
  "language_info": {
   "codemirror_mode": {
    "name": "ipython",
    "version": 3
   },
   "file_extension": ".py",
   "mimetype": "text/x-python",
   "name": "python",
   "nbconvert_exporter": "python",
   "pygments_lexer": "ipython3",
   "version": "3.8.5"
  }
 },
 "nbformat": 4,
 "nbformat_minor": 4
}
