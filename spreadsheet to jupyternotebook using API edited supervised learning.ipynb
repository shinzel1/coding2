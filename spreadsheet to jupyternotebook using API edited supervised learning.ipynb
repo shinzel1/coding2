{
 "cells": [
  {
   "cell_type": "code",
   "execution_count": 1,
   "metadata": {},
   "outputs": [],
   "source": [
    "\n",
    "\n",
    "#Importing the module\n",
    "import gspread\n",
    "from df2gspread import df2gspread as d2g\n",
    "from oauth2client.service_account import ServiceAccountCredentials"
   ]
  },
  {
   "cell_type": "code",
   "execution_count": 2,
   "metadata": {},
   "outputs": [],
   "source": [
    "# load libraries\n",
    "import pandas \n",
    "from pandas.plotting import scatter_matrix\n",
    "import matplotlib.pyplot as plt\n",
    "from sklearn import model_selection\n",
    "from sklearn.metrics import classification_report\n",
    "from sklearn.metrics import confusion_matrix\n",
    "from sklearn.metrics import accuracy_score\n",
    "from sklearn.linear_model import LogisticRegression\n",
    "from sklearn.tree import DecisionTreeClassifier\n",
    "from sklearn.neighbors import KNeighborsClassifier\n",
    "from sklearn.discriminant_analysis import LinearDiscriminantAnalysis\n",
    "from sklearn.naive_bayes import GaussianNB\n",
    "from sklearn.svm import SVC\n"
   ]
  },
  {
   "cell_type": "code",
   "execution_count": 3,
   "metadata": {},
   "outputs": [],
   "source": [
    "import pandas as pd"
   ]
  },
  {
   "cell_type": "code",
   "execution_count": null,
   "metadata": {},
   "outputs": [],
   "source": []
  },
  {
   "cell_type": "code",
   "execution_count": null,
   "metadata": {},
   "outputs": [],
   "source": [
    "\n",
    "\n"
   ]
  },
  {
   "cell_type": "code",
   "execution_count": 4,
   "metadata": {},
   "outputs": [],
   "source": [
    "scope = ['https://spreadsheets.google.com/feeds'] \n",
    "credentials = ServiceAccountCredentials.from_json_keyfile_name('shinzel1credentials.json', scope) \n",
    "gc = gspread.authorize(credentials)"
   ]
  },
  {
   "cell_type": "code",
   "execution_count": 5,
   "metadata": {},
   "outputs": [],
   "source": [
    "spreadsheet_key = '1OA8G9sJ6vem9uuntQEh0Z0QT6wApmgf42qn2eDEA0Kk'\n",
    "book = gc.open_by_key(spreadsheet_key) \n",
    "worksheet = book.worksheet(\"Iris\") \n",
    "table = worksheet.get_all_values()\n"
   ]
  },
  {
   "cell_type": "code",
   "execution_count": 11,
   "metadata": {},
   "outputs": [],
   "source": [
    "names = ['Id','sepal-length', 'sepal -width','petal-length','petal-width','class']"
   ]
  },
  {
   "cell_type": "code",
   "execution_count": null,
   "metadata": {},
   "outputs": [],
   "source": []
  },
  {
   "cell_type": "code",
   "execution_count": 12,
   "metadata": {},
   "outputs": [
    {
     "data": {
      "text/plain": [
       "[['Id',\n",
       "  'SepalLengthCm',\n",
       "  'SepalWidthCm',\n",
       "  'PetalLengthCm',\n",
       "  'PetalWidthCm',\n",
       "  'Species'],\n",
       " ['1', '5.1', '3.5', '1.4', '0.2', 'Iris-setosa'],\n",
       " ['2', '4.9', '3', '1.4', '0.2', 'Iris-setosa'],\n",
       " ['3', '4.7', '3.2', '1.3', '0.2', 'Iris-setosa'],\n",
       " ['4', '4.6', '3.1', '1.5', '0.2', 'Iris-setosa'],\n",
       " ['5', '5', '3.6', '1.4', '0.2', 'Iris-setosa'],\n",
       " ['6', '5.4', '3.9', '1.7', '0.4', 'Iris-setosa'],\n",
       " ['7', '4.6', '3.4', '1.4', '0.3', 'Iris-setosa'],\n",
       " ['8', '5', '3.4', '1.5', '0.2', 'Iris-setosa'],\n",
       " ['9', '4.4', '2.9', '1.4', '0.2', 'Iris-setosa'],\n",
       " ['10', '4.9', '3.1', '1.5', '0.1', 'Iris-setosa'],\n",
       " ['11', '5.4', '3.7', '1.5', '0.2', 'Iris-setosa'],\n",
       " ['12', '4.8', '3.4', '1.6', '0.2', 'Iris-setosa'],\n",
       " ['13', '4.8', '3', '1.4', '0.1', 'Iris-setosa'],\n",
       " ['14', '4.3', '3', '1.1', '0.1', 'Iris-setosa'],\n",
       " ['15', '5.8', '4', '1.2', '0.2', 'Iris-setosa'],\n",
       " ['16', '5.7', '4.4', '1.5', '0.4', 'Iris-setosa'],\n",
       " ['17', '5.4', '3.9', '1.3', '0.4', 'Iris-setosa'],\n",
       " ['18', '5.1', '3.5', '1.4', '0.3', 'Iris-setosa'],\n",
       " ['19', '5.7', '3.8', '1.7', '0.3', 'Iris-setosa'],\n",
       " ['20', '5.1', '3.8', '1.5', '0.3', 'Iris-setosa'],\n",
       " ['21', '5.4', '3.4', '1.7', '0.2', 'Iris-setosa'],\n",
       " ['22', '5.1', '3.7', '1.5', '0.4', 'Iris-setosa'],\n",
       " ['23', '4.6', '3.6', '1', '0.2', 'Iris-setosa'],\n",
       " ['24', '5.1', '3.3', '1.7', '0.5', 'Iris-setosa'],\n",
       " ['25', '4.8', '3.4', '1.9', '0.2', 'Iris-setosa'],\n",
       " ['26', '5', '3', '1.6', '0.2', 'Iris-setosa'],\n",
       " ['27', '5', '3.4', '1.6', '0.4', 'Iris-setosa'],\n",
       " ['28', '5.2', '3.5', '1.5', '0.2', 'Iris-setosa'],\n",
       " ['29', '5.2', '3.4', '1.4', '0.2', 'Iris-setosa'],\n",
       " ['30', '4.7', '3.2', '1.6', '0.2', 'Iris-setosa'],\n",
       " ['31', '4.8', '3.1', '1.6', '0.2', 'Iris-setosa'],\n",
       " ['32', '5.4', '3.4', '1.5', '0.4', 'Iris-setosa'],\n",
       " ['33', '5.2', '4.1', '1.5', '0.1', 'Iris-setosa'],\n",
       " ['34', '5.5', '4.2', '1.4', '0.2', 'Iris-setosa'],\n",
       " ['35', '4.9', '3.1', '1.5', '0.1', 'Iris-setosa'],\n",
       " ['36', '5', '3.2', '1.2', '0.2', 'Iris-setosa'],\n",
       " ['37', '5.5', '3.5', '1.3', '0.2', 'Iris-setosa'],\n",
       " ['38', '4.9', '3.1', '1.5', '0.1', 'Iris-setosa'],\n",
       " ['39', '4.4', '3', '1.3', '0.2', 'Iris-setosa'],\n",
       " ['40', '5.1', '3.4', '1.5', '0.2', 'Iris-setosa'],\n",
       " ['41', '5', '3.5', '1.3', '0.3', 'Iris-setosa'],\n",
       " ['42', '4.5', '2.3', '1.3', '0.3', 'Iris-setosa'],\n",
       " ['43', '4.4', '3.2', '1.3', '0.2', 'Iris-setosa'],\n",
       " ['44', '5', '3.5', '1.6', '0.6', 'Iris-setosa'],\n",
       " ['45', '5.1', '3.8', '1.9', '0.4', 'Iris-setosa'],\n",
       " ['46', '4.8', '3', '1.4', '0.3', 'Iris-setosa'],\n",
       " ['47', '5.1', '3.8', '1.6', '0.2', 'Iris-setosa'],\n",
       " ['48', '4.6', '3.2', '1.4', '0.2', 'Iris-setosa'],\n",
       " ['49', '5.3', '3.7', '1.5', '0.2', 'Iris-setosa'],\n",
       " ['50', '5', '3.3', '1.4', '0.2', 'Iris-setosa'],\n",
       " ['51', '7', '3.2', '4.7', '1.4', 'Iris-versicolor'],\n",
       " ['52', '6.4', '3.2', '4.5', '1.5', 'Iris-versicolor'],\n",
       " ['53', '6.9', '3.1', '4.9', '1.5', 'Iris-versicolor'],\n",
       " ['54', '5.5', '2.3', '4', '1.3', 'Iris-versicolor'],\n",
       " ['55', '6.5', '2.8', '4.6', '1.5', 'Iris-versicolor'],\n",
       " ['56', '5.7', '2.8', '4.5', '1.3', 'Iris-versicolor'],\n",
       " ['57', '6.3', '3.3', '4.7', '1.6', 'Iris-versicolor'],\n",
       " ['58', '4.9', '2.4', '3.3', '1', 'Iris-versicolor'],\n",
       " ['59', '6.6', '2.9', '4.6', '1.3', 'Iris-versicolor'],\n",
       " ['60', '5.2', '2.7', '3.9', '1.4', 'Iris-versicolor'],\n",
       " ['61', '5', '2', '3.5', '1', 'Iris-versicolor'],\n",
       " ['62', '5.9', '3', '4.2', '1.5', 'Iris-versicolor'],\n",
       " ['63', '6', '2.2', '4', '1', 'Iris-versicolor'],\n",
       " ['64', '6.1', '2.9', '4.7', '1.4', 'Iris-versicolor'],\n",
       " ['65', '5.6', '2.9', '3.6', '1.3', 'Iris-versicolor'],\n",
       " ['66', '6.7', '3.1', '4.4', '1.4', 'Iris-versicolor'],\n",
       " ['67', '5.6', '3', '4.5', '1.5', 'Iris-versicolor'],\n",
       " ['68', '5.8', '2.7', '4.1', '1', 'Iris-versicolor'],\n",
       " ['69', '6.2', '2.2', '4.5', '1.5', 'Iris-versicolor'],\n",
       " ['70', '5.6', '2.5', '3.9', '1.1', 'Iris-versicolor'],\n",
       " ['71', '5.9', '3.2', '4.8', '1.8', 'Iris-versicolor'],\n",
       " ['72', '6.1', '2.8', '4', '1.3', 'Iris-versicolor'],\n",
       " ['73', '6.3', '2.5', '4.9', '1.5', 'Iris-versicolor'],\n",
       " ['74', '6.1', '2.8', '4.7', '1.2', 'Iris-versicolor'],\n",
       " ['75', '6.4', '2.9', '4.3', '1.3', 'Iris-versicolor'],\n",
       " ['76', '6.6', '3', '4.4', '1.4', 'Iris-versicolor'],\n",
       " ['77', '6.8', '2.8', '4.8', '1.4', 'Iris-versicolor'],\n",
       " ['78', '6.7', '3', '5', '1.7', 'Iris-versicolor'],\n",
       " ['79', '6', '2.9', '4.5', '1.5', 'Iris-versicolor'],\n",
       " ['80', '5.7', '2.6', '3.5', '1', 'Iris-versicolor'],\n",
       " ['81', '5.5', '2.4', '3.8', '1.1', 'Iris-versicolor'],\n",
       " ['82', '5.5', '2.4', '3.7', '1', 'Iris-versicolor'],\n",
       " ['83', '5.8', '2.7', '3.9', '1.2', 'Iris-versicolor'],\n",
       " ['84', '6', '2.7', '5.1', '1.6', 'Iris-versicolor'],\n",
       " ['85', '5.4', '3', '4.5', '1.5', 'Iris-versicolor'],\n",
       " ['86', '6', '3.4', '4.5', '1.6', 'Iris-versicolor'],\n",
       " ['87', '6.7', '3.1', '4.7', '1.5', 'Iris-versicolor'],\n",
       " ['88', '6.3', '2.3', '4.4', '1.3', 'Iris-versicolor'],\n",
       " ['89', '5.6', '3', '4.1', '1.3', 'Iris-versicolor'],\n",
       " ['90', '5.5', '2.5', '4', '1.3', 'Iris-versicolor'],\n",
       " ['91', '5.5', '2.6', '4.4', '1.2', 'Iris-versicolor'],\n",
       " ['92', '6.1', '3', '4.6', '1.4', 'Iris-versicolor'],\n",
       " ['93', '5.8', '2.6', '4', '1.2', 'Iris-versicolor'],\n",
       " ['94', '5', '2.3', '3.3', '1', 'Iris-versicolor'],\n",
       " ['95', '5.6', '2.7', '4.2', '1.3', 'Iris-versicolor'],\n",
       " ['96', '5.7', '3', '4.2', '1.2', 'Iris-versicolor'],\n",
       " ['97', '5.7', '2.9', '4.2', '1.3', 'Iris-versicolor'],\n",
       " ['98', '6.2', '2.9', '4.3', '1.3', 'Iris-versicolor'],\n",
       " ['99', '5.1', '2.5', '3', '1.1', 'Iris-versicolor'],\n",
       " ['100', '5.7', '2.8', '4.1', '1.3', 'Iris-versicolor'],\n",
       " ['101', '6.3', '3.3', '6', '2.5', 'Iris-virginica'],\n",
       " ['102', '5.8', '2.7', '5.1', '1.9', 'Iris-virginica'],\n",
       " ['103', '7.1', '3', '5.9', '2.1', 'Iris-virginica'],\n",
       " ['104', '6.3', '2.9', '5.6', '1.8', 'Iris-virginica'],\n",
       " ['105', '6.5', '3', '5.8', '2.2', 'Iris-virginica'],\n",
       " ['106', '7.6', '3', '6.6', '2.1', 'Iris-virginica'],\n",
       " ['107', '4.9', '2.5', '4.5', '1.7', 'Iris-virginica'],\n",
       " ['108', '7.3', '2.9', '6.3', '1.8', 'Iris-virginica'],\n",
       " ['109', '6.7', '2.5', '5.8', '1.8', 'Iris-virginica'],\n",
       " ['110', '7.2', '3.6', '6.1', '2.5', 'Iris-virginica'],\n",
       " ['111', '6.5', '3.2', '5.1', '2', 'Iris-virginica'],\n",
       " ['112', '6.4', '2.7', '5.3', '1.9', 'Iris-virginica'],\n",
       " ['113', '6.8', '3', '5.5', '2.1', 'Iris-virginica'],\n",
       " ['114', '5.7', '2.5', '5', '2', 'Iris-virginica'],\n",
       " ['115', '5.8', '2.8', '5.1', '2.4', 'Iris-virginica'],\n",
       " ['116', '6.4', '3.2', '5.3', '2.3', 'Iris-virginica'],\n",
       " ['117', '6.5', '3', '5.5', '1.8', 'Iris-virginica'],\n",
       " ['118', '7.7', '3.8', '6.7', '2.2', 'Iris-virginica'],\n",
       " ['119', '7.7', '2.6', '6.9', '2.3', 'Iris-virginica'],\n",
       " ['120', '6', '2.2', '5', '1.5', 'Iris-virginica'],\n",
       " ['121', '6.9', '3.2', '5.7', '2.3', 'Iris-virginica'],\n",
       " ['122', '5.6', '2.8', '4.9', '2', 'Iris-virginica'],\n",
       " ['123', '7.7', '2.8', '6.7', '2', 'Iris-virginica'],\n",
       " ['124', '6.3', '2.7', '4.9', '1.8', 'Iris-virginica'],\n",
       " ['125', '6.7', '3.3', '5.7', '2.1', 'Iris-virginica'],\n",
       " ['126', '7.2', '3.2', '6', '1.8', 'Iris-virginica'],\n",
       " ['127', '6.2', '2.8', '4.8', '1.8', 'Iris-virginica'],\n",
       " ['128', '6.1', '3', '4.9', '1.8', 'Iris-virginica'],\n",
       " ['129', '6.4', '2.8', '5.6', '2.1', 'Iris-virginica'],\n",
       " ['130', '7.2', '3', '5.8', '1.6', 'Iris-virginica'],\n",
       " ['131', '7.4', '2.8', '6.1', '1.9', 'Iris-virginica'],\n",
       " ['132', '7.9', '3.8', '6.4', '2', 'Iris-virginica'],\n",
       " ['133', '6.4', '2.8', '5.6', '2.2', 'Iris-virginica'],\n",
       " ['134', '6.3', '2.8', '5.1', '1.5', 'Iris-virginica'],\n",
       " ['135', '6.1', '2.6', '5.6', '1.4', 'Iris-virginica'],\n",
       " ['136', '7.7', '3', '6.1', '2.3', 'Iris-virginica'],\n",
       " ['137', '6.3', '3.4', '5.6', '2.4', 'Iris-virginica'],\n",
       " ['138', '6.4', '3.1', '5.5', '1.8', 'Iris-virginica'],\n",
       " ['139', '6', '3', '4.8', '1.8', 'Iris-virginica'],\n",
       " ['140', '6.9', '3.1', '5.4', '2.1', 'Iris-virginica'],\n",
       " ['141', '6.7', '3.1', '5.6', '2.4', 'Iris-virginica'],\n",
       " ['142', '6.9', '3.1', '5.1', '2.3', 'Iris-virginica'],\n",
       " ['143', '5.8', '2.7', '5.1', '1.9', 'Iris-virginica'],\n",
       " ['144', '6.8', '3.2', '5.9', '2.3', 'Iris-virginica'],\n",
       " ['145', '6.7', '3.3', '5.7', '2.5', 'Iris-virginica'],\n",
       " ['146', '6.7', '3', '5.2', '2.3', 'Iris-virginica'],\n",
       " ['147', '6.3', '2.5', '5', '1.9', 'Iris-virginica'],\n",
       " ['148', '6.5', '3', '5.2', '2', 'Iris-virginica'],\n",
       " ['149', '6.2', '3.4', '5.4', '2.3', 'Iris-virginica'],\n",
       " ['150', '5.9', '3', '5.1', '1.8', 'Iris-virginica']]"
      ]
     },
     "execution_count": 12,
     "metadata": {},
     "output_type": "execute_result"
    }
   ],
   "source": [
    "table"
   ]
  },
  {
   "cell_type": "code",
   "execution_count": 15,
   "metadata": {},
   "outputs": [],
   "source": [
    "##Convert table data into a dataframe \n",
    "dataset = pd.DataFrame(table[1:], columns=table[6])\n"
   ]
  },
  {
   "cell_type": "code",
   "execution_count": 16,
   "metadata": {},
   "outputs": [
    {
     "ename": "KeyError",
     "evalue": "\"None of [Index(['Id', 'sepal-length', 'sepal-width', 'petal-length', 'petal-width',\\n       'class'],\\n      dtype='object')] are in the [columns]\"",
     "output_type": "error",
     "traceback": [
      "\u001b[1;31m---------------------------------------------------------------------------\u001b[0m",
      "\u001b[1;31mKeyError\u001b[0m                                  Traceback (most recent call last)",
      "\u001b[1;32m<ipython-input-16-ba4bc0d0a3da>\u001b[0m in \u001b[0;36m<module>\u001b[1;34m\u001b[0m\n\u001b[1;32m----> 1\u001b[1;33m \u001b[0mdataset\u001b[0m \u001b[1;33m=\u001b[0m \u001b[0mdataset\u001b[0m\u001b[1;33m[\u001b[0m\u001b[1;33m[\u001b[0m\u001b[1;34m'Id'\u001b[0m\u001b[1;33m,\u001b[0m\u001b[1;34m'sepal-length'\u001b[0m\u001b[1;33m,\u001b[0m \u001b[1;34m'sepal-width'\u001b[0m\u001b[1;33m,\u001b[0m\u001b[1;34m'petal-length'\u001b[0m\u001b[1;33m,\u001b[0m\u001b[1;34m'petal-width'\u001b[0m\u001b[1;33m,\u001b[0m\u001b[1;34m'class'\u001b[0m\u001b[1;33m]\u001b[0m\u001b[1;33m]\u001b[0m\u001b[1;33m\u001b[0m\u001b[1;33m\u001b[0m\u001b[0m\n\u001b[0m",
      "\u001b[1;32m~\\anaconda3\\lib\\site-packages\\pandas\\core\\frame.py\u001b[0m in \u001b[0;36m__getitem__\u001b[1;34m(self, key)\u001b[0m\n\u001b[0;32m   2906\u001b[0m             \u001b[1;32mif\u001b[0m \u001b[0mis_iterator\u001b[0m\u001b[1;33m(\u001b[0m\u001b[0mkey\u001b[0m\u001b[1;33m)\u001b[0m\u001b[1;33m:\u001b[0m\u001b[1;33m\u001b[0m\u001b[1;33m\u001b[0m\u001b[0m\n\u001b[0;32m   2907\u001b[0m                 \u001b[0mkey\u001b[0m \u001b[1;33m=\u001b[0m \u001b[0mlist\u001b[0m\u001b[1;33m(\u001b[0m\u001b[0mkey\u001b[0m\u001b[1;33m)\u001b[0m\u001b[1;33m\u001b[0m\u001b[1;33m\u001b[0m\u001b[0m\n\u001b[1;32m-> 2908\u001b[1;33m             \u001b[0mindexer\u001b[0m \u001b[1;33m=\u001b[0m \u001b[0mself\u001b[0m\u001b[1;33m.\u001b[0m\u001b[0mloc\u001b[0m\u001b[1;33m.\u001b[0m\u001b[0m_get_listlike_indexer\u001b[0m\u001b[1;33m(\u001b[0m\u001b[0mkey\u001b[0m\u001b[1;33m,\u001b[0m \u001b[0maxis\u001b[0m\u001b[1;33m=\u001b[0m\u001b[1;36m1\u001b[0m\u001b[1;33m,\u001b[0m \u001b[0mraise_missing\u001b[0m\u001b[1;33m=\u001b[0m\u001b[1;32mTrue\u001b[0m\u001b[1;33m)\u001b[0m\u001b[1;33m[\u001b[0m\u001b[1;36m1\u001b[0m\u001b[1;33m]\u001b[0m\u001b[1;33m\u001b[0m\u001b[1;33m\u001b[0m\u001b[0m\n\u001b[0m\u001b[0;32m   2909\u001b[0m \u001b[1;33m\u001b[0m\u001b[0m\n\u001b[0;32m   2910\u001b[0m         \u001b[1;31m# take() does not accept boolean indexers\u001b[0m\u001b[1;33m\u001b[0m\u001b[1;33m\u001b[0m\u001b[1;33m\u001b[0m\u001b[0m\n",
      "\u001b[1;32m~\\anaconda3\\lib\\site-packages\\pandas\\core\\indexing.py\u001b[0m in \u001b[0;36m_get_listlike_indexer\u001b[1;34m(self, key, axis, raise_missing)\u001b[0m\n\u001b[0;32m   1252\u001b[0m             \u001b[0mkeyarr\u001b[0m\u001b[1;33m,\u001b[0m \u001b[0mindexer\u001b[0m\u001b[1;33m,\u001b[0m \u001b[0mnew_indexer\u001b[0m \u001b[1;33m=\u001b[0m \u001b[0max\u001b[0m\u001b[1;33m.\u001b[0m\u001b[0m_reindex_non_unique\u001b[0m\u001b[1;33m(\u001b[0m\u001b[0mkeyarr\u001b[0m\u001b[1;33m)\u001b[0m\u001b[1;33m\u001b[0m\u001b[1;33m\u001b[0m\u001b[0m\n\u001b[0;32m   1253\u001b[0m \u001b[1;33m\u001b[0m\u001b[0m\n\u001b[1;32m-> 1254\u001b[1;33m         \u001b[0mself\u001b[0m\u001b[1;33m.\u001b[0m\u001b[0m_validate_read_indexer\u001b[0m\u001b[1;33m(\u001b[0m\u001b[0mkeyarr\u001b[0m\u001b[1;33m,\u001b[0m \u001b[0mindexer\u001b[0m\u001b[1;33m,\u001b[0m \u001b[0maxis\u001b[0m\u001b[1;33m,\u001b[0m \u001b[0mraise_missing\u001b[0m\u001b[1;33m=\u001b[0m\u001b[0mraise_missing\u001b[0m\u001b[1;33m)\u001b[0m\u001b[1;33m\u001b[0m\u001b[1;33m\u001b[0m\u001b[0m\n\u001b[0m\u001b[0;32m   1255\u001b[0m         \u001b[1;32mreturn\u001b[0m \u001b[0mkeyarr\u001b[0m\u001b[1;33m,\u001b[0m \u001b[0mindexer\u001b[0m\u001b[1;33m\u001b[0m\u001b[1;33m\u001b[0m\u001b[0m\n\u001b[0;32m   1256\u001b[0m \u001b[1;33m\u001b[0m\u001b[0m\n",
      "\u001b[1;32m~\\anaconda3\\lib\\site-packages\\pandas\\core\\indexing.py\u001b[0m in \u001b[0;36m_validate_read_indexer\u001b[1;34m(self, key, indexer, axis, raise_missing)\u001b[0m\n\u001b[0;32m   1296\u001b[0m             \u001b[1;32mif\u001b[0m \u001b[0mmissing\u001b[0m \u001b[1;33m==\u001b[0m \u001b[0mlen\u001b[0m\u001b[1;33m(\u001b[0m\u001b[0mindexer\u001b[0m\u001b[1;33m)\u001b[0m\u001b[1;33m:\u001b[0m\u001b[1;33m\u001b[0m\u001b[1;33m\u001b[0m\u001b[0m\n\u001b[0;32m   1297\u001b[0m                 \u001b[0maxis_name\u001b[0m \u001b[1;33m=\u001b[0m \u001b[0mself\u001b[0m\u001b[1;33m.\u001b[0m\u001b[0mobj\u001b[0m\u001b[1;33m.\u001b[0m\u001b[0m_get_axis_name\u001b[0m\u001b[1;33m(\u001b[0m\u001b[0maxis\u001b[0m\u001b[1;33m)\u001b[0m\u001b[1;33m\u001b[0m\u001b[1;33m\u001b[0m\u001b[0m\n\u001b[1;32m-> 1298\u001b[1;33m                 \u001b[1;32mraise\u001b[0m \u001b[0mKeyError\u001b[0m\u001b[1;33m(\u001b[0m\u001b[1;34mf\"None of [{key}] are in the [{axis_name}]\"\u001b[0m\u001b[1;33m)\u001b[0m\u001b[1;33m\u001b[0m\u001b[1;33m\u001b[0m\u001b[0m\n\u001b[0m\u001b[0;32m   1299\u001b[0m \u001b[1;33m\u001b[0m\u001b[0m\n\u001b[0;32m   1300\u001b[0m             \u001b[1;31m# We (temporarily) allow for some missing keys with .loc, except in\u001b[0m\u001b[1;33m\u001b[0m\u001b[1;33m\u001b[0m\u001b[1;33m\u001b[0m\u001b[0m\n",
      "\u001b[1;31mKeyError\u001b[0m: \"None of [Index(['Id', 'sepal-length', 'sepal-width', 'petal-length', 'petal-width',\\n       'class'],\\n      dtype='object')] are in the [columns]\""
     ]
    }
   ],
   "source": [
    "\n",
    "dataset = dataset[column['Id','sepal-length', 'sepal-width','petal-length','petal-width','class']]"
   ]
  },
  {
   "cell_type": "code",
   "execution_count": 46,
   "metadata": {},
   "outputs": [
    {
     "name": "stdout",
     "output_type": "stream",
     "text": [
      "(150, 6)\n"
     ]
    }
   ],
   "source": [
    "print(dataset.shape)"
   ]
  },
  {
   "cell_type": "code",
   "execution_count": 47,
   "metadata": {},
   "outputs": [
    {
     "name": "stdout",
     "output_type": "stream",
     "text": [
      "    Id SepalLengthCm SepalWidthCm PetalLengthCm PetalWidthCm      Species\n",
      "0    1           5.1          3.5           1.4          0.2  Iris-setosa\n",
      "1    2           4.9            3           1.4          0.2  Iris-setosa\n",
      "2    3           4.7          3.2           1.3          0.2  Iris-setosa\n",
      "3    4           4.6          3.1           1.5          0.2  Iris-setosa\n",
      "4    5             5          3.6           1.4          0.2  Iris-setosa\n",
      "5    6           5.4          3.9           1.7          0.4  Iris-setosa\n",
      "6    7           4.6          3.4           1.4          0.3  Iris-setosa\n",
      "7    8             5          3.4           1.5          0.2  Iris-setosa\n",
      "8    9           4.4          2.9           1.4          0.2  Iris-setosa\n",
      "9   10           4.9          3.1           1.5          0.1  Iris-setosa\n",
      "10  11           5.4          3.7           1.5          0.2  Iris-setosa\n",
      "11  12           4.8          3.4           1.6          0.2  Iris-setosa\n",
      "12  13           4.8            3           1.4          0.1  Iris-setosa\n",
      "13  14           4.3            3           1.1          0.1  Iris-setosa\n",
      "14  15           5.8            4           1.2          0.2  Iris-setosa\n",
      "15  16           5.7          4.4           1.5          0.4  Iris-setosa\n",
      "16  17           5.4          3.9           1.3          0.4  Iris-setosa\n",
      "17  18           5.1          3.5           1.4          0.3  Iris-setosa\n",
      "18  19           5.7          3.8           1.7          0.3  Iris-setosa\n",
      "19  20           5.1          3.8           1.5          0.3  Iris-setosa\n",
      "20  21           5.4          3.4           1.7          0.2  Iris-setosa\n",
      "21  22           5.1          3.7           1.5          0.4  Iris-setosa\n",
      "22  23           4.6          3.6             1          0.2  Iris-setosa\n",
      "23  24           5.1          3.3           1.7          0.5  Iris-setosa\n",
      "24  25           4.8          3.4           1.9          0.2  Iris-setosa\n",
      "25  26             5            3           1.6          0.2  Iris-setosa\n",
      "26  27             5          3.4           1.6          0.4  Iris-setosa\n",
      "27  28           5.2          3.5           1.5          0.2  Iris-setosa\n",
      "28  29           5.2          3.4           1.4          0.2  Iris-setosa\n",
      "29  30           4.7          3.2           1.6          0.2  Iris-setosa\n"
     ]
    }
   ],
   "source": [
    "print(dataset.head(30))"
   ]
  },
  {
   "cell_type": "code",
   "execution_count": 49,
   "metadata": {},
   "outputs": [
    {
     "name": "stdout",
     "output_type": "stream",
     "text": [
      "         Id SepalLengthCm SepalWidthCm PetalLengthCm PetalWidthCm  \\\n",
      "count   150           150          150           150          150   \n",
      "unique  150            35           23            43           22   \n",
      "top     136             5            3           1.5          0.2   \n",
      "freq      1            10           26            14           28   \n",
      "\n",
      "               Species  \n",
      "count              150  \n",
      "unique               3  \n",
      "top     Iris-virginica  \n",
      "freq                50  \n"
     ]
    }
   ],
   "source": [
    "print(dataset.describe())"
   ]
  },
  {
   "cell_type": "code",
   "execution_count": 53,
   "metadata": {},
   "outputs": [
    {
     "ename": "KeyError",
     "evalue": "'class'",
     "output_type": "error",
     "traceback": [
      "\u001b[1;31m---------------------------------------------------------------------------\u001b[0m",
      "\u001b[1;31mKeyError\u001b[0m                                  Traceback (most recent call last)",
      "\u001b[1;32m<ipython-input-53-43c0145019f1>\u001b[0m in \u001b[0;36m<module>\u001b[1;34m\u001b[0m\n\u001b[1;32m----> 1\u001b[1;33m \u001b[0mprint\u001b[0m\u001b[1;33m(\u001b[0m\u001b[0mdataset\u001b[0m\u001b[1;33m.\u001b[0m\u001b[0mgroupby\u001b[0m\u001b[1;33m(\u001b[0m\u001b[1;34m'class'\u001b[0m\u001b[1;33m)\u001b[0m\u001b[1;33m.\u001b[0m\u001b[0msize\u001b[0m\u001b[1;33m(\u001b[0m\u001b[1;33m)\u001b[0m\u001b[1;33m)\u001b[0m\u001b[1;33m\u001b[0m\u001b[1;33m\u001b[0m\u001b[0m\n\u001b[0m",
      "\u001b[1;32m~\\anaconda3\\lib\\site-packages\\pandas\\core\\frame.py\u001b[0m in \u001b[0;36mgroupby\u001b[1;34m(self, by, axis, level, as_index, sort, group_keys, squeeze, observed, dropna)\u001b[0m\n\u001b[0;32m   6509\u001b[0m         \u001b[0maxis\u001b[0m \u001b[1;33m=\u001b[0m \u001b[0mself\u001b[0m\u001b[1;33m.\u001b[0m\u001b[0m_get_axis_number\u001b[0m\u001b[1;33m(\u001b[0m\u001b[0maxis\u001b[0m\u001b[1;33m)\u001b[0m\u001b[1;33m\u001b[0m\u001b[1;33m\u001b[0m\u001b[0m\n\u001b[0;32m   6510\u001b[0m \u001b[1;33m\u001b[0m\u001b[0m\n\u001b[1;32m-> 6511\u001b[1;33m         return DataFrameGroupBy(\n\u001b[0m\u001b[0;32m   6512\u001b[0m             \u001b[0mobj\u001b[0m\u001b[1;33m=\u001b[0m\u001b[0mself\u001b[0m\u001b[1;33m,\u001b[0m\u001b[1;33m\u001b[0m\u001b[1;33m\u001b[0m\u001b[0m\n\u001b[0;32m   6513\u001b[0m             \u001b[0mkeys\u001b[0m\u001b[1;33m=\u001b[0m\u001b[0mby\u001b[0m\u001b[1;33m,\u001b[0m\u001b[1;33m\u001b[0m\u001b[1;33m\u001b[0m\u001b[0m\n",
      "\u001b[1;32m~\\anaconda3\\lib\\site-packages\\pandas\\core\\groupby\\groupby.py\u001b[0m in \u001b[0;36m__init__\u001b[1;34m(self, obj, keys, axis, level, grouper, exclusions, selection, as_index, sort, group_keys, squeeze, observed, mutated, dropna)\u001b[0m\n\u001b[0;32m    523\u001b[0m             \u001b[1;32mfrom\u001b[0m \u001b[0mpandas\u001b[0m\u001b[1;33m.\u001b[0m\u001b[0mcore\u001b[0m\u001b[1;33m.\u001b[0m\u001b[0mgroupby\u001b[0m\u001b[1;33m.\u001b[0m\u001b[0mgrouper\u001b[0m \u001b[1;32mimport\u001b[0m \u001b[0mget_grouper\u001b[0m\u001b[1;33m\u001b[0m\u001b[1;33m\u001b[0m\u001b[0m\n\u001b[0;32m    524\u001b[0m \u001b[1;33m\u001b[0m\u001b[0m\n\u001b[1;32m--> 525\u001b[1;33m             grouper, exclusions, obj = get_grouper(\n\u001b[0m\u001b[0;32m    526\u001b[0m                 \u001b[0mobj\u001b[0m\u001b[1;33m,\u001b[0m\u001b[1;33m\u001b[0m\u001b[1;33m\u001b[0m\u001b[0m\n\u001b[0;32m    527\u001b[0m                 \u001b[0mkeys\u001b[0m\u001b[1;33m,\u001b[0m\u001b[1;33m\u001b[0m\u001b[1;33m\u001b[0m\u001b[0m\n",
      "\u001b[1;32m~\\anaconda3\\lib\\site-packages\\pandas\\core\\groupby\\grouper.py\u001b[0m in \u001b[0;36mget_grouper\u001b[1;34m(obj, key, axis, level, sort, observed, mutated, validate, dropna)\u001b[0m\n\u001b[0;32m    779\u001b[0m                 \u001b[0min_axis\u001b[0m\u001b[1;33m,\u001b[0m \u001b[0mname\u001b[0m\u001b[1;33m,\u001b[0m \u001b[0mlevel\u001b[0m\u001b[1;33m,\u001b[0m \u001b[0mgpr\u001b[0m \u001b[1;33m=\u001b[0m \u001b[1;32mFalse\u001b[0m\u001b[1;33m,\u001b[0m \u001b[1;32mNone\u001b[0m\u001b[1;33m,\u001b[0m \u001b[0mgpr\u001b[0m\u001b[1;33m,\u001b[0m \u001b[1;32mNone\u001b[0m\u001b[1;33m\u001b[0m\u001b[1;33m\u001b[0m\u001b[0m\n\u001b[0;32m    780\u001b[0m             \u001b[1;32melse\u001b[0m\u001b[1;33m:\u001b[0m\u001b[1;33m\u001b[0m\u001b[1;33m\u001b[0m\u001b[0m\n\u001b[1;32m--> 781\u001b[1;33m                 \u001b[1;32mraise\u001b[0m \u001b[0mKeyError\u001b[0m\u001b[1;33m(\u001b[0m\u001b[0mgpr\u001b[0m\u001b[1;33m)\u001b[0m\u001b[1;33m\u001b[0m\u001b[1;33m\u001b[0m\u001b[0m\n\u001b[0m\u001b[0;32m    782\u001b[0m         \u001b[1;32melif\u001b[0m \u001b[0misinstance\u001b[0m\u001b[1;33m(\u001b[0m\u001b[0mgpr\u001b[0m\u001b[1;33m,\u001b[0m \u001b[0mGrouper\u001b[0m\u001b[1;33m)\u001b[0m \u001b[1;32mand\u001b[0m \u001b[0mgpr\u001b[0m\u001b[1;33m.\u001b[0m\u001b[0mkey\u001b[0m \u001b[1;32mis\u001b[0m \u001b[1;32mnot\u001b[0m \u001b[1;32mNone\u001b[0m\u001b[1;33m:\u001b[0m\u001b[1;33m\u001b[0m\u001b[1;33m\u001b[0m\u001b[0m\n\u001b[0;32m    783\u001b[0m             \u001b[1;31m# Add key to exclusions\u001b[0m\u001b[1;33m\u001b[0m\u001b[1;33m\u001b[0m\u001b[1;33m\u001b[0m\u001b[0m\n",
      "\u001b[1;31mKeyError\u001b[0m: 'class'"
     ]
    }
   ],
   "source": [
    "print(dataset.groupby('class').size())"
   ]
  },
  {
   "cell_type": "code",
   "execution_count": null,
   "metadata": {},
   "outputs": [],
   "source": []
  },
  {
   "cell_type": "code",
   "execution_count": null,
   "metadata": {},
   "outputs": [],
   "source": []
  },
  {
   "cell_type": "code",
   "execution_count": null,
   "metadata": {},
   "outputs": [],
   "source": []
  },
  {
   "cell_type": "code",
   "execution_count": null,
   "metadata": {},
   "outputs": [],
   "source": []
  },
  {
   "cell_type": "code",
   "execution_count": null,
   "metadata": {},
   "outputs": [],
   "source": []
  },
  {
   "cell_type": "code",
   "execution_count": null,
   "metadata": {},
   "outputs": [],
   "source": []
  },
  {
   "cell_type": "code",
   "execution_count": null,
   "metadata": {},
   "outputs": [],
   "source": []
  },
  {
   "cell_type": "code",
   "execution_count": null,
   "metadata": {},
   "outputs": [],
   "source": []
  },
  {
   "cell_type": "code",
   "execution_count": null,
   "metadata": {},
   "outputs": [],
   "source": []
  },
  {
   "cell_type": "code",
   "execution_count": null,
   "metadata": {},
   "outputs": [],
   "source": []
  },
  {
   "cell_type": "code",
   "execution_count": null,
   "metadata": {},
   "outputs": [],
   "source": [
    "names = ['sepal-length', 'sepal -width','petal-length','petal-width','class']\n",
    "dataset = pd.read_csv(worksheet,names=names)"
   ]
  },
  {
   "cell_type": "code",
   "execution_count": null,
   "metadata": {},
   "outputs": [],
   "source": []
  },
  {
   "cell_type": "code",
   "execution_count": null,
   "metadata": {},
   "outputs": [],
   "source": []
  },
  {
   "cell_type": "code",
   "execution_count": null,
   "metadata": {},
   "outputs": [],
   "source": []
  },
  {
   "cell_type": "code",
   "execution_count": null,
   "metadata": {},
   "outputs": [],
   "source": []
  },
  {
   "cell_type": "code",
   "execution_count": null,
   "metadata": {},
   "outputs": [],
   "source": []
  },
  {
   "cell_type": "code",
   "execution_count": null,
   "metadata": {},
   "outputs": [],
   "source": []
  },
  {
   "cell_type": "code",
   "execution_count": null,
   "metadata": {},
   "outputs": [],
   "source": []
  }
 ],
 "metadata": {
  "kernelspec": {
   "display_name": "Python 3",
   "language": "python",
   "name": "python3"
  },
  "language_info": {
   "codemirror_mode": {
    "name": "ipython",
    "version": 3
   },
   "file_extension": ".py",
   "mimetype": "text/x-python",
   "name": "python",
   "nbconvert_exporter": "python",
   "pygments_lexer": "ipython3",
   "version": "3.8.5"
  }
 },
 "nbformat": 4,
 "nbformat_minor": 4
}
