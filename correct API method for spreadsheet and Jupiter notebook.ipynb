{
 "cells": [
  {
   "cell_type": "code",
   "execution_count": 1,
   "metadata": {},
   "outputs": [],
   "source": [
    "import gspread\n",
    "from oauth2client.service_account import ServiceAccountCredentials\n",
    "import pandas as pd\n",
    "\n"
   ]
  },
  {
   "cell_type": "code",
   "execution_count": 6,
   "metadata": {},
   "outputs": [],
   "source": [
    "names = ['Id','sepal-length', 'sepal -width','petal-length','petal-width','class']"
   ]
  },
  {
   "cell_type": "code",
   "execution_count": null,
   "metadata": {},
   "outputs": [],
   "source": []
  },
  {
   "cell_type": "code",
   "execution_count": 9,
   "metadata": {},
   "outputs": [],
   "source": [
    "scope = ['https://spreadsheets.google.com/feeds',\n",
    "         'https://www.googleapis.com/auth/drive']\n",
    "\n",
    "\n",
    "credentials = ServiceAccountCredentials.from_json_keyfile_name('shinzel1credentials.json', scope) \n",
    "gc = gspread.authorize(credentials)\n",
    "\n",
    "\n",
    "wks = gc.open(\"Iris\").sheet1\n",
    "\n",
    "data = wks.get_all_values()\n",
    "headers = data.pop(0)\n",
    "\n"
   ]
  },
  {
   "cell_type": "code",
   "execution_count": 12,
   "metadata": {},
   "outputs": [],
   "source": [
    "dataset = pd.DataFrame(data, columns=names)"
   ]
  },
  {
   "cell_type": "code",
   "execution_count": 13,
   "metadata": {},
   "outputs": [
    {
     "name": "stdout",
     "output_type": "stream",
     "text": [
      "    id sepal-length sepal -width petal-length petal-width        class\n",
      "0    1          5.1          3.5          1.4         0.2  Iris-setosa\n",
      "1    2          4.9            3          1.4         0.2  Iris-setosa\n",
      "2    3          4.7          3.2          1.3         0.2  Iris-setosa\n",
      "3    4          4.6          3.1          1.5         0.2  Iris-setosa\n",
      "4    5            5          3.6          1.4         0.2  Iris-setosa\n",
      "5    6          5.4          3.9          1.7         0.4  Iris-setosa\n",
      "6    7          4.6          3.4          1.4         0.3  Iris-setosa\n",
      "7    8            5          3.4          1.5         0.2  Iris-setosa\n",
      "8    9          4.4          2.9          1.4         0.2  Iris-setosa\n",
      "9   10          4.9          3.1          1.5         0.1  Iris-setosa\n",
      "10  11          5.4          3.7          1.5         0.2  Iris-setosa\n",
      "11  12          4.8          3.4          1.6         0.2  Iris-setosa\n",
      "12  13          4.8            3          1.4         0.1  Iris-setosa\n",
      "13  14          4.3            3          1.1         0.1  Iris-setosa\n",
      "14  15          5.8            4          1.2         0.2  Iris-setosa\n",
      "15  16          5.7          4.4          1.5         0.4  Iris-setosa\n",
      "16  17          5.4          3.9          1.3         0.4  Iris-setosa\n",
      "17  18          5.1          3.5          1.4         0.3  Iris-setosa\n",
      "18  19          5.7          3.8          1.7         0.3  Iris-setosa\n",
      "19  20          5.1          3.8          1.5         0.3  Iris-setosa\n",
      "20  21          5.4          3.4          1.7         0.2  Iris-setosa\n",
      "21  22          5.1          3.7          1.5         0.4  Iris-setosa\n",
      "22  23          4.6          3.6            1         0.2  Iris-setosa\n",
      "23  24          5.1          3.3          1.7         0.5  Iris-setosa\n",
      "24  25          4.8          3.4          1.9         0.2  Iris-setosa\n",
      "25  26            5            3          1.6         0.2  Iris-setosa\n",
      "26  27            5          3.4          1.6         0.4  Iris-setosa\n",
      "27  28          5.2          3.5          1.5         0.2  Iris-setosa\n",
      "28  29          5.2          3.4          1.4         0.2  Iris-setosa\n",
      "29  30          4.7          3.2          1.6         0.2  Iris-setosa\n"
     ]
    }
   ],
   "source": [
    "print(dataset.head(30))"
   ]
  },
  {
   "cell_type": "code",
   "execution_count": 14,
   "metadata": {},
   "outputs": [
    {
     "name": "stdout",
     "output_type": "stream",
     "text": [
      "(150, 6)\n"
     ]
    }
   ],
   "source": [
    "print(dataset.shape)"
   ]
  },
  {
   "cell_type": "code",
   "execution_count": 16,
   "metadata": {},
   "outputs": [
    {
     "name": "stdout",
     "output_type": "stream",
     "text": [
      "         id sepal-length sepal -width petal-length petal-width           class\n",
      "count   150          150          150          150         150             150\n",
      "unique  150           35           23           43          22               3\n",
      "top       8            5            3          1.5         0.2  Iris-virginica\n",
      "freq      1           10           26           14          28              50\n"
     ]
    }
   ],
   "source": [
    "print(dataset.describe())"
   ]
  },
  {
   "cell_type": "code",
   "execution_count": 19,
   "metadata": {},
   "outputs": [
    {
     "ename": "AttributeError",
     "evalue": "'str' object has no attribute 'size'",
     "output_type": "error",
     "traceback": [
      "\u001b[1;31m---------------------------------------------------------------------------\u001b[0m",
      "\u001b[1;31mAttributeError\u001b[0m                            Traceback (most recent call last)",
      "\u001b[1;32m<ipython-input-19-84064b7ad486>\u001b[0m in \u001b[0;36m<module>\u001b[1;34m\u001b[0m\n\u001b[1;32m----> 1\u001b[1;33m \u001b[0mprint\u001b[0m\u001b[1;33m(\u001b[0m\u001b[0mdataset\u001b[0m\u001b[1;33m.\u001b[0m\u001b[0mgroupby\u001b[0m\u001b[1;33m(\u001b[0m\u001b[1;34m'class'\u001b[0m\u001b[1;33m.\u001b[0m\u001b[0msize\u001b[0m\u001b[1;33m(\u001b[0m\u001b[1;33m)\u001b[0m\u001b[1;33m)\u001b[0m\u001b[1;33m)\u001b[0m\u001b[1;33m\u001b[0m\u001b[1;33m\u001b[0m\u001b[0m\n\u001b[0m",
      "\u001b[1;31mAttributeError\u001b[0m: 'str' object has no attribute 'size'"
     ]
    }
   ],
   "source": [
    "print(dataset.groupby('class'.size()))"
   ]
  },
  {
   "cell_type": "code",
   "execution_count": null,
   "metadata": {},
   "outputs": [],
   "source": []
  },
  {
   "cell_type": "code",
   "execution_count": null,
   "metadata": {},
   "outputs": [],
   "source": []
  }
 ],
 "metadata": {
  "kernelspec": {
   "display_name": "Python 3",
   "language": "python",
   "name": "python3"
  },
  "language_info": {
   "codemirror_mode": {
    "name": "ipython",
    "version": 3
   },
   "file_extension": ".py",
   "mimetype": "text/x-python",
   "name": "python",
   "nbconvert_exporter": "python",
   "pygments_lexer": "ipython3",
   "version": "3.8.5"
  }
 },
 "nbformat": 4,
 "nbformat_minor": 4
}
