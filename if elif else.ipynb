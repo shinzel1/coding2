{
 "cells": [
  {
   "cell_type": "code",
   "execution_count": 1,
   "metadata": {},
   "outputs": [],
   "source": []
  },
  {
   "cell_type": "code",
   "execution_count": 10,
   "metadata": {},
   "outputs": [
    {
     "name": "stdout",
     "output_type": "stream",
     "text": [
      "i donot know much.\n"
     ]
    }
   ],
   "source": [
    "\n",
    "\n",
    "loc ='game'\n",
    "\n",
    "if loc =='Auto Shop':\n",
    "    print(\"cars are cool!\")\n",
    "elif loc =='bank':\n",
    "    print('money is cool!')\n",
    "elif loc=='Store':\n",
    "    print(\"welcome to the store!\")\n",
    "else:\n",
    "    print(\"i donot know much.\")"
   ]
  },
  {
   "cell_type": "markdown",
   "metadata": {},
   "source": []
  },
  {
   "cell_type": "code",
   "execution_count": 16,
   "metadata": {},
   "outputs": [
    {
     "name": "stdout",
     "output_type": "stream",
     "text": [
      "what is your name\n"
     ]
    }
   ],
   "source": [
    "name ='jose'\n",
    "\n",
    "if name == 'franky':\n",
    "    print(\"hello frankie!\")\n",
    "elif name =='sammy':\n",
    "    print(\"hello sammy\")\n",
    "else: \n",
    "    print(\"what is your name\")"
   ]
  },
  {
   "cell_type": "code",
   "execution_count": null,
   "metadata": {},
   "outputs": [],
   "source": []
  }
 ],
 "metadata": {
  "kernelspec": {
   "display_name": "Python 3",
   "language": "python",
   "name": "python3"
  },
  "language_info": {
   "codemirror_mode": {
    "name": "ipython",
    "version": 3
   },
   "file_extension": ".py",
   "mimetype": "text/x-python",
   "name": "python",
   "nbconvert_exporter": "python",
   "pygments_lexer": "ipython3",
   "version": "3.8.5"
  }
 },
 "nbformat": 4,
 "nbformat_minor": 4
}
