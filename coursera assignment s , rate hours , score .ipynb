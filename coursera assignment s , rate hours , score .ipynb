{
 "cells": [
  {
   "cell_type": "code",
   "execution_count": 18,
   "metadata": {},
   "outputs": [
    {
     "name": "stdout",
     "output_type": "stream",
     "text": [
      "Enter Hours:45\n",
      "enter rate:10.5\n",
      "498.75\n"
     ]
    }
   ],
   "source": [
    "hrs = input(\"Enter Hours:\")\n",
    "h = float(hrs)\n",
    "rate = input(\"enter rate:\")\n",
    "rate = float(rate)\n",
    "if h >40:\n",
    "    print(40*rate + (h-40)*rate*1.5)\n",
    "else :\n",
    "    print(h*rate)\n",
    "    "
   ]
  },
  {
   "cell_type": "code",
   "execution_count": 16,
   "metadata": {},
   "outputs": [
    {
     "data": {
      "text/plain": [
       "420.0"
      ]
     },
     "execution_count": 16,
     "metadata": {},
     "output_type": "execute_result"
    }
   ],
   "source": [
    "40*10.5\n",
    "\n"
   ]
  },
  {
   "cell_type": "code",
   "execution_count": 17,
   "metadata": {},
   "outputs": [
    {
     "data": {
      "text/plain": [
       "78.75"
      ]
     },
     "execution_count": 17,
     "metadata": {},
     "output_type": "execute_result"
    }
   ],
   "source": [
    "5*10.5*1.5"
   ]
  },
  {
   "cell_type": "code",
   "execution_count": null,
   "metadata": {},
   "outputs": [],
   "source": []
  },
  {
   "cell_type": "code",
   "execution_count": 28,
   "metadata": {},
   "outputs": [
    {
     "name": "stdout",
     "output_type": "stream",
     "text": [
      "Enter Score: 0.85\n",
      "B\n"
     ]
    }
   ],
   "source": [
    "score = input(\"Enter Score: \")\n",
    "score =float(score)\n",
    "if (score>=0.0) and (score<=1.0):\n",
    "        if score>=0.9 :\n",
    "            print(\"A\")\n",
    "        elif score>=0.8:\n",
    "            print(\"B\")\n",
    "        elif score >=0.7:\n",
    "            print(\"C\")\n",
    "        elif score>=0.6:\n",
    "            print(\"D\")\n",
    "        else :\n",
    "            print(\"F\")\n",
    "else :\n",
    "    print(\"error\")"
   ]
  },
  {
   "cell_type": "code",
   "execution_count": null,
   "metadata": {},
   "outputs": [],
   "source": [
    "#function\n"
   ]
  },
  {
   "cell_type": "code",
   "execution_count": null,
   "metadata": {},
   "outputs": [],
   "source": [
    "def computepay(h,r):\n",
    "    if h>40:\n",
    "        return (40*r +(h-40)*r*1.5)\n",
    "    else :\n",
    "        return(h*r)\n",
    "\n",
    "hrs = input(\"Enter Hours:\")\n",
    "h= float(hrs)\n",
    "rate =input(\"enter rate:\")\n",
    "rate = float(rate)\n",
    "p = computepay(h,rate)\n",
    "print(\"Pay\",p)"
   ]
  },
  {
   "cell_type": "code",
   "execution_count": null,
   "metadata": {},
   "outputs": [],
   "source": []
  },
  {
   "cell_type": "code",
   "execution_count": null,
   "metadata": {},
   "outputs": [],
   "source": [
    "largest =None\n",
    "smallest =None\n",
    "while True:\n",
    "    num = input(\"Enter a number: \")\n",
    "    if num == \"done\" : break\n",
    "    try:\n",
    "        num=float(num)\n",
    "    except:\n",
    "            print('Invalid input')\n",
    "            continue\n",
    "    if largest<num:\n",
    "        largest = num\n",
    "    elif smallest>num:\n",
    "        smallest = num\n",
    "print(\"Maximum is \", largest)\n",
    "print(\"Minimum is \",smallest)"
   ]
  },
  {
   "cell_type": "code",
   "execution_count": null,
   "metadata": {},
   "outputs": [],
   "source": [
    "assignment 5"
   ]
  },
  {
   "cell_type": "code",
   "execution_count": null,
   "metadata": {},
   "outputs": [],
   "source": [
    "largest =None\n",
    "smallest =None\n",
    "\n",
    "while True:\n",
    "    num = input(\"Enter a number: \")\n",
    "    if num == \"done\" : break\n",
    "    try:\n",
    "        num = int(num)\n",
    "    except:\n",
    "        print('Invalid input')\n",
    "        continue\n",
    "    if largest is None or largest < num:\n",
    "        largest = num\n",
    "    elif smallest is None or smallest > num :\n",
    "        smallest = num   \n",
    "    \n",
    "print(\"Maximum is\", largest)\n",
    "print(\"Minimum is\",smallest)"
   ]
  }
 ],
 "metadata": {
  "kernelspec": {
   "display_name": "Python 3",
   "language": "python",
   "name": "python3"
  },
  "language_info": {
   "codemirror_mode": {
    "name": "ipython",
    "version": 3
   },
   "file_extension": ".py",
   "mimetype": "text/x-python",
   "name": "python",
   "nbconvert_exporter": "python",
   "pygments_lexer": "ipython3",
   "version": "3.8.5"
  }
 },
 "nbformat": 4,
 "nbformat_minor": 4
}
